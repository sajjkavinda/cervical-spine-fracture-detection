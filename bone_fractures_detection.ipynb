{
  "cells": [
    {
      "cell_type": "markdown",
      "metadata": {
        "id": "view-in-github",
        "colab_type": "text"
      },
      "source": [
        "<a href=\"https://colab.research.google.com/github/sajjkavinda/rsna-classification/blob/main/bone_fractures_detection.ipynb\" target=\"_parent\"><img src=\"https://colab.research.google.com/assets/colab-badge.svg\" alt=\"Open In Colab\"/></a>"
      ]
    },
    {
      "cell_type": "code",
      "execution_count": 1,
      "metadata": {
        "colab": {
          "base_uri": "https://localhost:8080/",
          "height": 304
        },
        "id": "jx8VrQmNDntG",
        "outputId": "7c539d07-6304-48e3-8474-660129ace748"
      },
      "outputs": [
        {
          "output_type": "error",
          "ename": "MessageError",
          "evalue": "Error: credential propagation was unsuccessful",
          "traceback": [
            "\u001b[0;31m---------------------------------------------------------------------------\u001b[0m",
            "\u001b[0;31mMessageError\u001b[0m                              Traceback (most recent call last)",
            "\u001b[0;32m/tmp/ipython-input-1408506528.py\u001b[0m in \u001b[0;36m<cell line: 0>\u001b[0;34m()\u001b[0m\n\u001b[1;32m      1\u001b[0m \u001b[0;32mfrom\u001b[0m \u001b[0mgoogle\u001b[0m\u001b[0;34m.\u001b[0m\u001b[0mcolab\u001b[0m \u001b[0;32mimport\u001b[0m \u001b[0mdrive\u001b[0m\u001b[0;34m\u001b[0m\u001b[0;34m\u001b[0m\u001b[0m\n\u001b[0;32m----> 2\u001b[0;31m \u001b[0mdrive\u001b[0m\u001b[0;34m.\u001b[0m\u001b[0mmount\u001b[0m\u001b[0;34m(\u001b[0m\u001b[0;34m'/content/drive'\u001b[0m\u001b[0;34m)\u001b[0m\u001b[0;34m\u001b[0m\u001b[0;34m\u001b[0m\u001b[0m\n\u001b[0m",
            "\u001b[0;32m/usr/local/lib/python3.12/dist-packages/google/colab/drive.py\u001b[0m in \u001b[0;36mmount\u001b[0;34m(mountpoint, force_remount, timeout_ms, readonly)\u001b[0m\n\u001b[1;32m     95\u001b[0m \u001b[0;32mdef\u001b[0m \u001b[0mmount\u001b[0m\u001b[0;34m(\u001b[0m\u001b[0mmountpoint\u001b[0m\u001b[0;34m,\u001b[0m \u001b[0mforce_remount\u001b[0m\u001b[0;34m=\u001b[0m\u001b[0;32mFalse\u001b[0m\u001b[0;34m,\u001b[0m \u001b[0mtimeout_ms\u001b[0m\u001b[0;34m=\u001b[0m\u001b[0;36m120000\u001b[0m\u001b[0;34m,\u001b[0m \u001b[0mreadonly\u001b[0m\u001b[0;34m=\u001b[0m\u001b[0;32mFalse\u001b[0m\u001b[0;34m)\u001b[0m\u001b[0;34m:\u001b[0m\u001b[0;34m\u001b[0m\u001b[0;34m\u001b[0m\u001b[0m\n\u001b[1;32m     96\u001b[0m   \u001b[0;34m\"\"\"Mount your Google Drive at the specified mountpoint path.\"\"\"\u001b[0m\u001b[0;34m\u001b[0m\u001b[0;34m\u001b[0m\u001b[0m\n\u001b[0;32m---> 97\u001b[0;31m   return _mount(\n\u001b[0m\u001b[1;32m     98\u001b[0m       \u001b[0mmountpoint\u001b[0m\u001b[0;34m,\u001b[0m\u001b[0;34m\u001b[0m\u001b[0;34m\u001b[0m\u001b[0m\n\u001b[1;32m     99\u001b[0m       \u001b[0mforce_remount\u001b[0m\u001b[0;34m=\u001b[0m\u001b[0mforce_remount\u001b[0m\u001b[0;34m,\u001b[0m\u001b[0;34m\u001b[0m\u001b[0;34m\u001b[0m\u001b[0m\n",
            "\u001b[0;32m/usr/local/lib/python3.12/dist-packages/google/colab/drive.py\u001b[0m in \u001b[0;36m_mount\u001b[0;34m(mountpoint, force_remount, timeout_ms, ephemeral, readonly)\u001b[0m\n\u001b[1;32m    132\u001b[0m   )\n\u001b[1;32m    133\u001b[0m   \u001b[0;32mif\u001b[0m \u001b[0mephemeral\u001b[0m\u001b[0;34m:\u001b[0m\u001b[0;34m\u001b[0m\u001b[0;34m\u001b[0m\u001b[0m\n\u001b[0;32m--> 134\u001b[0;31m     _message.blocking_request(\n\u001b[0m\u001b[1;32m    135\u001b[0m         \u001b[0;34m'request_auth'\u001b[0m\u001b[0;34m,\u001b[0m\u001b[0;34m\u001b[0m\u001b[0;34m\u001b[0m\u001b[0m\n\u001b[1;32m    136\u001b[0m         \u001b[0mrequest\u001b[0m\u001b[0;34m=\u001b[0m\u001b[0;34m{\u001b[0m\u001b[0;34m'authType'\u001b[0m\u001b[0;34m:\u001b[0m \u001b[0;34m'dfs_ephemeral'\u001b[0m\u001b[0;34m}\u001b[0m\u001b[0;34m,\u001b[0m\u001b[0;34m\u001b[0m\u001b[0;34m\u001b[0m\u001b[0m\n",
            "\u001b[0;32m/usr/local/lib/python3.12/dist-packages/google/colab/_message.py\u001b[0m in \u001b[0;36mblocking_request\u001b[0;34m(request_type, request, timeout_sec, parent)\u001b[0m\n\u001b[1;32m    174\u001b[0m       \u001b[0mrequest_type\u001b[0m\u001b[0;34m,\u001b[0m \u001b[0mrequest\u001b[0m\u001b[0;34m,\u001b[0m \u001b[0mparent\u001b[0m\u001b[0;34m=\u001b[0m\u001b[0mparent\u001b[0m\u001b[0;34m,\u001b[0m \u001b[0mexpect_reply\u001b[0m\u001b[0;34m=\u001b[0m\u001b[0;32mTrue\u001b[0m\u001b[0;34m\u001b[0m\u001b[0;34m\u001b[0m\u001b[0m\n\u001b[1;32m    175\u001b[0m   )\n\u001b[0;32m--> 176\u001b[0;31m   \u001b[0;32mreturn\u001b[0m \u001b[0mread_reply_from_input\u001b[0m\u001b[0;34m(\u001b[0m\u001b[0mrequest_id\u001b[0m\u001b[0;34m,\u001b[0m \u001b[0mtimeout_sec\u001b[0m\u001b[0;34m)\u001b[0m\u001b[0;34m\u001b[0m\u001b[0;34m\u001b[0m\u001b[0m\n\u001b[0m",
            "\u001b[0;32m/usr/local/lib/python3.12/dist-packages/google/colab/_message.py\u001b[0m in \u001b[0;36mread_reply_from_input\u001b[0;34m(message_id, timeout_sec)\u001b[0m\n\u001b[1;32m    101\u001b[0m     ):\n\u001b[1;32m    102\u001b[0m       \u001b[0;32mif\u001b[0m \u001b[0;34m'error'\u001b[0m \u001b[0;32min\u001b[0m \u001b[0mreply\u001b[0m\u001b[0;34m:\u001b[0m\u001b[0;34m\u001b[0m\u001b[0;34m\u001b[0m\u001b[0m\n\u001b[0;32m--> 103\u001b[0;31m         \u001b[0;32mraise\u001b[0m \u001b[0mMessageError\u001b[0m\u001b[0;34m(\u001b[0m\u001b[0mreply\u001b[0m\u001b[0;34m[\u001b[0m\u001b[0;34m'error'\u001b[0m\u001b[0;34m]\u001b[0m\u001b[0;34m)\u001b[0m\u001b[0;34m\u001b[0m\u001b[0;34m\u001b[0m\u001b[0m\n\u001b[0m\u001b[1;32m    104\u001b[0m       \u001b[0;32mreturn\u001b[0m \u001b[0mreply\u001b[0m\u001b[0;34m.\u001b[0m\u001b[0mget\u001b[0m\u001b[0;34m(\u001b[0m\u001b[0;34m'data'\u001b[0m\u001b[0;34m,\u001b[0m \u001b[0;32mNone\u001b[0m\u001b[0;34m)\u001b[0m\u001b[0;34m\u001b[0m\u001b[0;34m\u001b[0m\u001b[0m\n\u001b[1;32m    105\u001b[0m \u001b[0;34m\u001b[0m\u001b[0m\n",
            "\u001b[0;31mMessageError\u001b[0m: Error: credential propagation was unsuccessful"
          ]
        }
      ],
      "source": [
        "from google.colab import drive\n",
        "drive.mount('/content/drive')"
      ]
    },
    {
      "cell_type": "code",
      "execution_count": null,
      "metadata": {
        "id": "s2n4KsYzE2zh"
      },
      "outputs": [],
      "source": [
        "!unzip \"/content/drive/MyDrive/rsna_subset_png.zip\" -d \"/content/rsna_subset\"\n"
      ]
    },
    {
      "cell_type": "code",
      "execution_count": null,
      "metadata": {
        "id": "gvuR5bFOFD_9"
      },
      "outputs": [],
      "source": [
        "import os\n",
        "os.listdir(\"/content/rsna_subset_png/kaggle/working/rsna_subset\")[:5]"
      ]
    },
    {
      "cell_type": "code",
      "execution_count": null,
      "metadata": {
        "id": "EhRoaRcYHVoG"
      },
      "outputs": [],
      "source": [
        "!pip uninstall -y gdcm python-gdcm pydicom pylibjpeg pylibjpeg-libjpeg pylibjpeg-openjpeg\n",
        "!pip install pydicom pylibjpeg pylibjpeg-libjpeg pylibjpeg-openjpeg\n",
        "!pip install opencv-python matplotlib tqdm"
      ]
    },
    {
      "cell_type": "code",
      "execution_count": null,
      "metadata": {
        "id": "LBJKk92yHag1"
      },
      "outputs": [],
      "source": [
        "import os\n",
        "import pydicom\n",
        "import cv2\n",
        "from tqdm import tqdm\n",
        "\n",
        "input_dir = \"/content/rsna_subset/kaggle/working/rsna_subset\"\n",
        "output_dir = \"/content/rsna_png_images\"\n",
        "os.makedirs(output_dir, exist_ok=True)\n",
        "\n",
        "for patient in tqdm(os.listdir(input_dir)):\n",
        "    patient_path = os.path.join(input_dir, patient)\n",
        "    if not os.path.isdir(patient_path):\n",
        "        continue\n",
        "    patient_output = os.path.join(output_dir, patient)\n",
        "    os.makedirs(patient_output, exist_ok=True)\n",
        "\n",
        "    for file in os.listdir(patient_path):\n",
        "        if file.endswith(\".dcm\"):\n",
        "            dcm_path = os.path.join(patient_path, file)\n",
        "            png_path = os.path.join(patient_output, file.replace(\".dcm\", \".png\"))\n",
        "\n",
        "            try:\n",
        "                dcm = pydicom.dcmread(dcm_path)\n",
        "                img = dcm.pixel_array\n",
        "                img = cv2.normalize(img, None, 0, 255, cv2.NORM_MINMAX)\n",
        "                cv2.imwrite(png_path, img)\n",
        "            except Exception as e:\n",
        "                print(f\"Error converting {dcm_path}: {e}\")\n"
      ]
    },
    {
      "cell_type": "code",
      "execution_count": null,
      "metadata": {
        "id": "G4WqWopVIlGs"
      },
      "outputs": [],
      "source": [
        "import os\n",
        "print(len(os.listdir(\"/content/rsna_png_images\")))"
      ]
    },
    {
      "cell_type": "code",
      "execution_count": null,
      "metadata": {
        "id": "G0e6U54aIteL"
      },
      "outputs": [],
      "source": [
        "import pandas as pd\n",
        "\n",
        "base_dir = \"/content/\"\n",
        "\n",
        "# Load labels again if needed\n",
        "labels = pd.read_csv(base_dir + \"train.csv\")\n",
        "\n",
        "# Keep only the subset\n",
        "subset_ids = os.listdir(\"/content/rsna_png_images\")\n",
        "subset_labels = labels[labels[\"StudyInstanceUID\"].isin(subset_ids)][[\"StudyInstanceUID\", \"patient_overall\"]]\n",
        "\n",
        "print(subset_labels.head())"
      ]
    },
    {
      "cell_type": "code",
      "execution_count": null,
      "metadata": {
        "id": "9_yZmIUG0W2w"
      },
      "outputs": [],
      "source": [
        "import os\n",
        "\n",
        "converted_ids = [d for d in os.listdir(\"/content/rsna_subset_png/kaggle/working/rsna_subset/\") if os.path.isdir(os.path.join(\"/content/rsna_subset_png/kaggle/working/rsna_subset/\", d))]\n",
        "print(\"Total converted folders:\", len(converted_ids))"
      ]
    },
    {
      "cell_type": "code",
      "execution_count": null,
      "metadata": {
        "id": "3V4xSQeNsI06"
      },
      "outputs": [],
      "source": [
        "import pandas as pd\n",
        "\n",
        "train_csv_path = \"/content/train.csv\"  # adjust to where your csv actually is\n",
        "test_csv_path = \"/content/test.csv\"\n",
        "\n",
        "train_df = pd.read_csv(train_csv_path)\n",
        "test_df = pd.read_csv(test_csv_path)\n",
        "\n",
        "train_df = train_df[train_df[\"StudyInstanceUID\"].isin(converted_ids)]\n",
        "test_df = test_df[test_df[\"StudyInstanceUID\"].isin(converted_ids)]\n",
        "\n",
        "print(\"Train available:\", len(train_df))\n",
        "print(\"Test available:\", len(test_df))\n"
      ]
    },
    {
      "cell_type": "code",
      "execution_count": null,
      "metadata": {
        "id": "NZfD_0IwsC0v"
      },
      "outputs": [],
      "source": [
        "from sklearn.model_selection import train_test_split\n",
        "\n",
        "train_split, val_split = train_test_split(\n",
        "    train_df, test_size=0.2, stratify=train_df[\"patient_overall\"], random_state=42\n",
        ")\n",
        "\n",
        "test_split = val_split.copy()  # use val as test if you just need it for experiments"
      ]
    },
    {
      "cell_type": "code",
      "execution_count": null,
      "metadata": {
        "id": "kR1uYFzV0xGM"
      },
      "outputs": [],
      "source": [
        "converted_dir = \"/content/rsna_subset_png/kaggle/working/rsna_subset/\"\n"
      ]
    },
    {
      "cell_type": "code",
      "execution_count": null,
      "metadata": {
        "id": "kxA6iDh6tD7e"
      },
      "outputs": [],
      "source": [
        "import shutil\n",
        "from tqdm import tqdm\n",
        "\n",
        "def copy_images(df, split, labeled=True):\n",
        "    for _, row in tqdm(df.iterrows(), total=len(df)):\n",
        "        src_dir = os.path.join(converted_dir, row[\"StudyInstanceUID\"])\n",
        "        label = \"fractured\" if labeled and row[\"patient_overall\"] == 1 else \"normal\"\n",
        "        if not labeled:\n",
        "            label = \"unknown\"\n",
        "        dst_dir = f\"/content/data/{split}/{label}\"\n",
        "        os.makedirs(dst_dir, exist_ok=True)\n",
        "        for file in os.listdir(src_dir):\n",
        "            shutil.copy(os.path.join(src_dir, file),\n",
        "                        os.path.join(dst_dir, f\"{row['StudyInstanceUID']}_{file}\"))\n",
        "\n",
        "# Copy train, val, and test sets\n",
        "copy_images(train_split, \"train\")\n",
        "copy_images(val_split, \"val\")\n",
        "copy_images(test_df, \"test\", labeled=False)"
      ]
    }
  ],
  "metadata": {
    "accelerator": "GPU",
    "colab": {
      "gpuType": "T4",
      "provenance": [],
      "authorship_tag": "ABX9TyNaUoUPgozhBAlLIW4QhfY3",
      "include_colab_link": true
    },
    "kernelspec": {
      "display_name": "Python 3",
      "name": "python3"
    },
    "language_info": {
      "name": "python"
    }
  },
  "nbformat": 4,
  "nbformat_minor": 0
}