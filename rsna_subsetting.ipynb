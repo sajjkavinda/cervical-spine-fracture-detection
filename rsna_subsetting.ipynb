{
  "metadata": {
    "kernelspec": {
      "language": "python",
      "display_name": "Python 3",
      "name": "python3"
    },
    "language_info": {
      "name": "python",
      "version": "3.11.13",
      "mimetype": "text/x-python",
      "codemirror_mode": {
        "name": "ipython",
        "version": 3
      },
      "pygments_lexer": "ipython3",
      "nbconvert_exporter": "python",
      "file_extension": ".py"
    },
    "kaggle": {
      "accelerator": "none",
      "dataSources": [
        {
          "sourceId": 36363,
          "databundleVersionId": 4050810,
          "sourceType": "competition"
        },
        {
          "sourceId": 4264054,
          "sourceType": "datasetVersion",
          "datasetId": 2406209
        }
      ],
      "dockerImageVersionId": 31089,
      "isInternetEnabled": false,
      "language": "python",
      "sourceType": "notebook",
      "isGpuEnabled": false
    },
    "colab": {
      "name": "rsna_subsetting",
      "provenance": [],
      "include_colab_link": true
    }
  },
  "nbformat_minor": 0,
  "nbformat": 4,
  "cells": [
    {
      "cell_type": "markdown",
      "metadata": {
        "id": "view-in-github",
        "colab_type": "text"
      },
      "source": [
        "<a href=\"https://colab.research.google.com/github/sajjkavinda/rsna-classification/blob/dataset-subesetting/rsna_subsetting.ipynb\" target=\"_parent\"><img src=\"https://colab.research.google.com/assets/colab-badge.svg\" alt=\"Open In Colab\"/></a>"
      ]
    },
    {
      "source": [
        "# IMPORTANT: SOME KAGGLE DATA SOURCES ARE PRIVATE\n",
        "# RUN THIS CELL IN ORDER TO IMPORT YOUR KAGGLE DATA SOURCES.\n",
        "import kagglehub\n",
        "kagglehub.login()\n"
      ],
      "metadata": {
        "id": "NNbKpR5Ra6CS"
      },
      "cell_type": "code",
      "outputs": [],
      "execution_count": null
    },
    {
      "source": [
        "# IMPORTANT: RUN THIS CELL IN ORDER TO IMPORT YOUR KAGGLE DATA SOURCES,\n",
        "# THEN FEEL FREE TO DELETE THIS CELL.\n",
        "# NOTE: THIS NOTEBOOK ENVIRONMENT DIFFERS FROM KAGGLE'S PYTHON\n",
        "# ENVIRONMENT SO THERE MAY BE MISSING LIBRARIES USED BY YOUR\n",
        "# NOTEBOOK.\n",
        "\n",
        "rsna_2022_cervical_spine_fracture_detection_path = kagglehub.competition_download('rsna-2022-cervical-spine-fracture-detection')\n",
        "samuelcortinhas_rsna_2022_spine_fracture_detection_metadata_path = kagglehub.dataset_download('samuelcortinhas/rsna-2022-spine-fracture-detection-metadata')\n",
        "\n",
        "print('Data source import complete.')\n"
      ],
      "metadata": {
        "id": "wftvovrua6CU"
      },
      "cell_type": "code",
      "outputs": [],
      "execution_count": null
    },
    {
      "cell_type": "code",
      "source": [
        "import os\n",
        "\n",
        "base_dir = \"/kaggle/input/rsna-2022-cervical-spine-fracture-detection/\"\n",
        "print(os.listdir(base_dir))\n"
      ],
      "metadata": {
        "_uuid": "8f2839f25d086af736a60e9eeb907d3b93b6e0e5",
        "_cell_guid": "b1076dfc-b9ad-4769-8c92-a6c4dae69d19",
        "trusted": true,
        "execution": {
          "iopub.status.busy": "2025-10-05T12:31:16.68184Z",
          "iopub.execute_input": "2025-10-05T12:31:16.682141Z",
          "iopub.status.idle": "2025-10-05T12:31:16.68798Z",
          "shell.execute_reply.started": "2025-10-05T12:31:16.682116Z",
          "shell.execute_reply": "2025-10-05T12:31:16.686844Z"
        },
        "id": "gYGCr8R0a6CV"
      },
      "outputs": [],
      "execution_count": null
    },
    {
      "cell_type": "code",
      "source": [
        "import pandas as pd\n",
        "\n",
        "labels = pd.read_csv(\"/kaggle/input/rsna-2022-cervical-spine-fracture-detection/train.csv\")\n",
        "print(labels.columns)"
      ],
      "metadata": {
        "trusted": true,
        "execution": {
          "iopub.status.busy": "2025-10-05T12:31:19.9472Z",
          "iopub.execute_input": "2025-10-05T12:31:19.94751Z",
          "iopub.status.idle": "2025-10-05T12:31:20.272863Z",
          "shell.execute_reply.started": "2025-10-05T12:31:19.947488Z",
          "shell.execute_reply": "2025-10-05T12:31:20.272043Z"
        },
        "id": "Ceh0UVORa6CV"
      },
      "outputs": [],
      "execution_count": null
    },
    {
      "cell_type": "code",
      "source": [
        "import pandas as pd\n",
        "import shutil\n",
        "import os\n",
        "\n",
        "# labels\n",
        "labels = pd.read_csv(base_dir + \"train.csv\")\n",
        "\n",
        "# Randomly picking 10\n",
        "fractured = labels[labels[\"patient_overall\"]==1][\"StudyInstanceUID\"].sample(10, random_state=42)\n",
        "normal = labels[labels[\"patient_overall\"]==0][\"StudyInstanceUID\"].sample(10, random_state=42)\n",
        "\n",
        "subset = list(fractured) + list(normal)\n",
        "\n",
        "# Output\n",
        "os.makedirs(\"/kaggle/working/rsna_subset\", exist_ok=True)\n",
        "\n",
        "# Copy to a new folder\n",
        "for pid in subset:\n",
        "    src = os.path.join(base_dir, \"train_images\", pid)\n",
        "    dst = os.path.join(\"/kaggle/working/rsna_subset\", pid)\n",
        "    shutil.copytree(src, dst)\n"
      ],
      "metadata": {
        "trusted": true,
        "execution": {
          "iopub.status.busy": "2025-10-05T12:31:23.0096Z",
          "iopub.execute_input": "2025-10-05T12:31:23.009887Z",
          "iopub.status.idle": "2025-10-05T12:33:32.361244Z",
          "shell.execute_reply.started": "2025-10-05T12:31:23.009866Z",
          "shell.execute_reply": "2025-10-05T12:33:32.360295Z"
        },
        "id": "Pp6yBuWqa6CV"
      },
      "outputs": [],
      "execution_count": null
    },
    {
      "cell_type": "code",
      "source": [
        "import pydicom\n",
        "pydicom.config.image_handlers = ['pylibjpeg']\n",
        "\n",
        "print(\"Active handlers:\", pydicom.config.image_handlers)"
      ],
      "metadata": {
        "trusted": true,
        "execution": {
          "iopub.status.busy": "2025-10-05T12:39:50.326862Z",
          "iopub.execute_input": "2025-10-05T12:39:50.327191Z",
          "iopub.status.idle": "2025-10-05T12:39:50.332061Z",
          "shell.execute_reply.started": "2025-10-05T12:39:50.32716Z",
          "shell.execute_reply": "2025-10-05T12:39:50.331114Z"
        },
        "id": "u099tlCya6CV"
      },
      "outputs": [],
      "execution_count": null
    },
    {
      "cell_type": "code",
      "source": [
        "import cv2\n",
        "import numpy as np\n",
        "from tqdm import tqdm\n",
        "import os\n",
        "\n",
        "png_root = \"/kaggle/working/rsna_subset_png\"\n",
        "\n",
        "def normalize_image(img):\n",
        "    # Contrast stretching to 0–255\n",
        "    img = cv2.normalize(img, None, 0, 255, cv2.NORM_MINMAX)\n",
        "    return img.astype(np.uint8)\n",
        "\n",
        "for pid in tqdm(os.listdir(png_root), desc=\"Normalizing PNGs\"):\n",
        "    folder = os.path.join(png_root, pid)\n",
        "    for f in os.listdir(folder):\n",
        "        if f.endswith(\".png\"):\n",
        "            path = os.path.join(folder, f)\n",
        "            img = cv2.imread(path, cv2.IMREAD_GRAYSCALE)\n",
        "            norm = normalize_image(img)\n",
        "            cv2.imwrite(path, norm)\n"
      ],
      "metadata": {
        "trusted": true,
        "execution": {
          "iopub.status.busy": "2025-10-05T12:40:55.195728Z",
          "iopub.execute_input": "2025-10-05T12:40:55.196059Z",
          "iopub.status.idle": "2025-10-05T12:41:05.058568Z",
          "shell.execute_reply.started": "2025-10-05T12:40:55.196035Z",
          "shell.execute_reply": "2025-10-05T12:41:05.057871Z"
        },
        "id": "NZl-FHyca6CW"
      },
      "outputs": [],
      "execution_count": null
    }
  ]
}