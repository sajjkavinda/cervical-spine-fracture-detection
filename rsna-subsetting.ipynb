{
 "cells": [
  {
   "cell_type": "markdown",
   "id": "03c66a8e",
   "metadata": {
    "papermill": {
     "duration": 0.002468,
     "end_time": "2025-10-16T20:41:16.017389",
     "exception": false,
     "start_time": "2025-10-16T20:41:16.014921",
     "status": "completed"
    },
    "tags": []
   },
   "source": [
    "**Subsetting the large dataset**"
   ]
  },
  {
   "cell_type": "code",
   "execution_count": 1,
   "id": "3cf111b4",
   "metadata": {
    "_cell_guid": "b1076dfc-b9ad-4769-8c92-a6c4dae69d19",
    "_uuid": "8f2839f25d086af736a60e9eeb907d3b93b6e0e5",
    "execution": {
     "iopub.execute_input": "2025-10-16T20:41:16.022901Z",
     "iopub.status.busy": "2025-10-16T20:41:16.022604Z",
     "iopub.status.idle": "2025-10-16T20:41:16.031979Z",
     "shell.execute_reply": "2025-10-16T20:41:16.030982Z"
    },
    "papermill": {
     "duration": 0.013786,
     "end_time": "2025-10-16T20:41:16.033363",
     "exception": false,
     "start_time": "2025-10-16T20:41:16.019577",
     "status": "completed"
    },
    "tags": []
   },
   "outputs": [
    {
     "name": "stdout",
     "output_type": "stream",
     "text": [
      "['sample_submission.csv', 'train_images', 'train_bounding_boxes.csv', 'segmentations', 'train.csv', 'test.csv', 'test_images']\n"
     ]
    }
   ],
   "source": [
    "import os\n",
    "\n",
    "base_dir = \"/kaggle/input/rsna-2022-cervical-spine-fracture-detection/\"\n",
    "print(os.listdir(base_dir))\n"
   ]
  },
  {
   "cell_type": "markdown",
   "id": "c3d3813d",
   "metadata": {
    "papermill": {
     "duration": 0.001871,
     "end_time": "2025-10-16T20:41:16.037524",
     "exception": false,
     "start_time": "2025-10-16T20:41:16.035653",
     "status": "completed"
    },
    "tags": []
   },
   "source": [
    "Checking the available indexes in the csv file which can be used to refer the image dataset"
   ]
  },
  {
   "cell_type": "code",
   "execution_count": 2,
   "id": "72a90497",
   "metadata": {
    "execution": {
     "iopub.execute_input": "2025-10-16T20:41:16.043212Z",
     "iopub.status.busy": "2025-10-16T20:41:16.042423Z",
     "iopub.status.idle": "2025-10-16T20:41:17.944579Z",
     "shell.execute_reply": "2025-10-16T20:41:17.943553Z"
    },
    "papermill": {
     "duration": 1.906593,
     "end_time": "2025-10-16T20:41:17.946128",
     "exception": false,
     "start_time": "2025-10-16T20:41:16.039535",
     "status": "completed"
    },
    "tags": []
   },
   "outputs": [
    {
     "name": "stdout",
     "output_type": "stream",
     "text": [
      "Index(['StudyInstanceUID', 'patient_overall', 'C1', 'C2', 'C3', 'C4', 'C5',\n",
      "       'C6', 'C7'],\n",
      "      dtype='object')\n"
     ]
    }
   ],
   "source": [
    "import pandas as pd\n",
    "\n",
    "labels = pd.read_csv(\"/kaggle/input/rsna-2022-cervical-spine-fracture-detection/train.csv\")\n",
    "print(labels.columns)"
   ]
  },
  {
   "cell_type": "markdown",
   "id": "ea792b52",
   "metadata": {
    "papermill": {
     "duration": 0.001978,
     "end_time": "2025-10-16T20:41:17.950499",
     "exception": false,
     "start_time": "2025-10-16T20:41:17.948521",
     "status": "completed"
    },
    "tags": []
   },
   "source": [
    "Considered factors when subsetting the dataset\n",
    "\n",
    "* Equal number of *fractured* and *normal* images.\n",
    "* 400 images for each.\n",
    "* Split in to training, testing and validation sets.\n",
    "* Training + Validation 90% , Testing 10%\n",
    "* Create seperate CSV files for each.\n",
    "* Copy the subset in to a different folder\n",
    "* Use only 3 middle slices to reduce the storage requirement the computational power"
   ]
  },
  {
   "cell_type": "code",
   "execution_count": 3,
   "id": "6ea63ec5",
   "metadata": {
    "execution": {
     "iopub.execute_input": "2025-10-16T20:41:17.956861Z",
     "iopub.status.busy": "2025-10-16T20:41:17.956420Z",
     "iopub.status.idle": "2025-10-16T20:42:05.250490Z",
     "shell.execute_reply": "2025-10-16T20:42:05.249494Z"
    },
    "papermill": {
     "duration": 47.301878,
     "end_time": "2025-10-16T20:42:05.254494",
     "exception": false,
     "start_time": "2025-10-16T20:41:17.952616",
     "status": "completed"
    },
    "tags": []
   },
   "outputs": [
    {
     "name": "stdout",
     "output_type": "stream",
     "text": [
      "Train: 576, Val: 144, Test: 80\n",
      "Subsetted images copied to rsna_subset_images\n"
     ]
    }
   ],
   "source": [
    "import os\n",
    "import shutil\n",
    "import pandas as pd\n",
    "from sklearn.model_selection import train_test_split\n",
    "\n",
    "# Base path to full dataset\n",
    "base_dir = \"/kaggle/input/rsna-2022-cervical-spine-fracture-detection/\"\n",
    "labels = pd.read_csv(os.path.join(base_dir, \"train.csv\"))\n",
    "\n",
    "fractured = labels[labels[\"patient_overall\"]==1][\"StudyInstanceUID\"].sample(400, random_state=42)\n",
    "normal = labels[labels[\"patient_overall\"]==0][\"StudyInstanceUID\"].sample(400, random_state=42)\n",
    "subset_uids = list(fractured) + list(normal)\n",
    "\n",
    "# Filter labels\n",
    "subset_df = labels[labels[\"StudyInstanceUID\"].isin(subset_uids)].copy()\n",
    "\n",
    "# Dataset Spliting\n",
    "train_val_uids, test_uids = train_test_split(\n",
    "    subset_uids, test_size=0.1, random_state=42, stratify=subset_df[\"patient_overall\"]\n",
    ")\n",
    "\n",
    "train_uids, val_uids = train_test_split(\n",
    "    train_val_uids, test_size=0.2, random_state=42,\n",
    "    stratify=subset_df[subset_df[\"StudyInstanceUID\"].isin(train_val_uids)][\"patient_overall\"]\n",
    ")\n",
    "\n",
    "train_df = subset_df[subset_df[\"StudyInstanceUID\"].isin(train_uids)]\n",
    "val_df   = subset_df[subset_df[\"StudyInstanceUID\"].isin(val_uids)]\n",
    "test_df  = subset_df[subset_df[\"StudyInstanceUID\"].isin(test_uids)]\n",
    "\n",
    "# Save CSVs accordingly\n",
    "subset_csv_dir = \"subset_csv\"\n",
    "os.makedirs(subset_csv_dir, exist_ok=True)\n",
    "train_df.to_csv(os.path.join(subset_csv_dir,\"train.csv\"), index=False)\n",
    "val_df.to_csv(os.path.join(subset_csv_dir,\"val.csv\"), index=False)\n",
    "test_df.to_csv(os.path.join(subset_csv_dir,\"test.csv\"), index=False)\n",
    "\n",
    "print(f\"Train: {len(train_df)}, Val: {len(val_df)}, Test: {len(test_df)}\")\n",
    "\n",
    "# Copy the subset in to a new folder\n",
    "subset_img_dir = \"rsna_subset_images\"\n",
    "os.makedirs(subset_img_dir, exist_ok=True)\n",
    "\n",
    "for pid in subset_uids:\n",
    "    src_folder = os.path.join(base_dir, \"train_images\", pid)\n",
    "    dst_folder = os.path.join(subset_img_dir, pid)\n",
    "    os.makedirs(dst_folder, exist_ok=True)\n",
    "\n",
    "    # Select 3 middle slices per study\n",
    "    all_files = sorted(os.listdir(src_folder))\n",
    "    mid_index = len(all_files) // 2\n",
    "    selected_files = all_files[mid_index-1:mid_index+2]  # 3 slices\n",
    "\n",
    "    for f in selected_files:\n",
    "        shutil.copy(os.path.join(src_folder, f), os.path.join(dst_folder, f))\n",
    "\n",
    "print(f\"Subsetted images copied to {subset_img_dir}\")\n"
   ]
  },
  {
   "cell_type": "code",
   "execution_count": 4,
   "id": "bb5dd1f4",
   "metadata": {
    "execution": {
     "iopub.execute_input": "2025-10-16T20:42:05.260602Z",
     "iopub.status.busy": "2025-10-16T20:42:05.260254Z",
     "iopub.status.idle": "2025-10-16T20:43:27.171083Z",
     "shell.execute_reply": "2025-10-16T20:43:27.170154Z"
    },
    "papermill": {
     "duration": 81.917775,
     "end_time": "2025-10-16T20:43:27.174673",
     "exception": false,
     "start_time": "2025-10-16T20:42:05.256898",
     "status": "completed"
    },
    "tags": []
   },
   "outputs": [
    {
     "name": "stdout",
     "output_type": "stream",
     "text": [
      "Subset folder and CSVs zipped successfully into rsna_subset.zip\n"
     ]
    }
   ],
   "source": [
    "import os\n",
    "import zipfile\n",
    "import shutil\n",
    "\n",
    "# Paths\n",
    "subset_img_dir = \"rsna_subset_images\"\n",
    "subset_csv_dir = \"subset_csv\"        \n",
    "zip_name = \"rsna_subset.zip\"\n",
    "\n",
    "# Create the zip\n",
    "with zipfile.ZipFile(zip_name, 'w', zipfile.ZIP_DEFLATED) as zipf:\n",
    "    for root, dirs, files in os.walk(subset_img_dir):\n",
    "        for f in files:\n",
    "            file_path = os.path.join(root, f)\n",
    "            # keep the folder structure inside the zip\n",
    "            arcname = os.path.relpath(file_path, os.path.dirname(subset_img_dir))\n",
    "            zipf.write(file_path, arcname)\n",
    "    \n",
    "    # Add CSV files\n",
    "    for csv_file in [\"train.csv\", \"val.csv\", \"test.csv\"]:\n",
    "        csv_path = os.path.join(subset_csv_dir, csv_file)\n",
    "        if os.path.exists(csv_path):\n",
    "            zipf.write(csv_path, os.path.join(\"subset_csv\", csv_file))\n",
    "\n",
    "print(f\"Subset folder and CSVs zipped successfully into {zip_name}\")\n"
   ]
  }
 ],
 "metadata": {
  "kaggle": {
   "accelerator": "none",
   "dataSources": [
    {
     "databundleVersionId": 4050810,
     "sourceId": 36363,
     "sourceType": "competition"
    },
    {
     "datasetId": 2406209,
     "sourceId": 4264054,
     "sourceType": "datasetVersion"
    }
   ],
   "dockerImageVersionId": 31089,
   "isGpuEnabled": false,
   "isInternetEnabled": false,
   "language": "python",
   "sourceType": "notebook"
  },
  "kernelspec": {
   "display_name": "Python 3",
   "language": "python",
   "name": "python3"
  },
  "language_info": {
   "codemirror_mode": {
    "name": "ipython",
    "version": 3
   },
   "file_extension": ".py",
   "mimetype": "text/x-python",
   "name": "python",
   "nbconvert_exporter": "python",
   "pygments_lexer": "ipython3",
   "version": "3.11.13"
  },
  "papermill": {
   "default_parameters": {},
   "duration": 137.595317,
   "end_time": "2025-10-16T20:43:27.898078",
   "environment_variables": {},
   "exception": null,
   "input_path": "__notebook__.ipynb",
   "output_path": "__notebook__.ipynb",
   "parameters": {},
   "start_time": "2025-10-16T20:41:10.302761",
   "version": "2.6.0"
  }
 },
 "nbformat": 4,
 "nbformat_minor": 5
}
